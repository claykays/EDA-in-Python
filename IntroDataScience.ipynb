{
 "cells": [
  {
   "cell_type": "code",
   "execution_count": null,
   "metadata": {},
   "outputs": [],
   "source": [
    "import seaborn as sns\n",
    "import statsmodels as sm\n",
    "import matplotlib.pyplot as plt\n",
    "\n",
    "   # You can change linestyle to dotted (':'), dashed('--'), or no line ('').\n",
    "   # You can change the marker to circle ('o'), diamond('d'), or square ('s').\n",
    "# Change the color of Phoenix to `\"DarkCyan\"`\n",
    "plt.plot(data[\"Year\"], data[\"Phoenix Police Dept\"], label=\"Phoenix\",color= 'DarkCyan')\n",
    "\n",
    "# Make the Los Angeles line dotted\n",
    "plt.plot(data[\"Year\"], data[\"Los Angeles Police Dept\"], label=\"Los Angeles\", linestyle =':')\n",
    "\n",
    "# Add square markers to Philedelphia\n",
    "plt.plot(data[\"Year\"], data[\"Philadelphia Police Dept\"], label=\"Philadelphia\", marker ='s')\n",
    "\n",
    "# Add a legend\n",
    "plt.legend()\n",
    "\n",
    "# Display the plot\n",
    "plt.show()"
   ]
  },
  {
   "cell_type": "code",
   "execution_count": null,
   "metadata": {},
   "outputs": [],
   "source": [
    "# Change the style to fivethirtyeight\n",
    "plt.style.use(\"fivethirtyeight\")\n",
    "\n",
    "# Plot lines\n",
    "plt.plot(data[\"Year\"], data[\"Phoenix Police Dept\"], label=\"Phoenix\")\n",
    "plt.plot(data[\"Year\"], data[\"Los Angeles Police Dept\"], label=\"Los Angeles\")\n",
    "plt.plot(data[\"Year\"], data[\"Philadelphia Police Dept\"], label=\"Philadelphia\")\n",
    "\n",
    "# Add a legend\n",
    "plt.legend()\n",
    "\n",
    "# Display the plot\n",
    "plt.show()"
   ]
  },
  {
   "cell_type": "code",
   "execution_count": null,
   "metadata": {},
   "outputs": [],
   "source": [
    "# Change the style to ggplot\n",
    "plt.style.use(\"ggplot\")\n",
    "\n",
    "# Plot lines\n",
    "plt.plot(data[\"Year\"], data[\"Phoenix Police Dept\"], label=\"Phoenix\")\n",
    "plt.plot(data[\"Year\"], data[\"Los Angeles Police Dept\"], label=\"Los Angeles\")\n",
    "plt.plot(data[\"Year\"], data[\"Philadelphia Police Dept\"], label=\"Philadelphia\")\n",
    "\n",
    "# Add a legend\n",
    "plt.legend()\n",
    "\n",
    "# Display the plot\n",
    "plt.show()"
   ]
  },
  {
   "cell_type": "code",
   "execution_count": null,
   "metadata": {},
   "outputs": [],
   "source": [
    "# x should be ransom.letter and y should be ransom.frequency\n",
    "plt.plot(ransom.letter, ransom.frequency,\n",
    "         # Label should be \"Ransom\"\n",
    "         label=\"Ransom\",\n",
    "         # Plot the ransom letter as a dotted gray line\n",
    "         linestyle=':', color='gray')\n",
    "\n",
    "# Display the plot\n",
    "plt.show()"
   ]
  },
  {
   "cell_type": "code",
   "execution_count": null,
   "metadata": {},
   "outputs": [],
   "source": [
    "# Plot each line\n",
    "plt.plot(ransom.letter, ransom.frequency,\n",
    "         label='Ransom', linestyle=':', color='gray')\n",
    "\n",
    "# X-values should be suspect1.letter\n",
    "# Y-values should be suspect1.frequency\n",
    "# Label should be \"Fred Frequentist\"\n",
    "plt.plot(suspect1.letter, suspect1.frequency, label=\"Fred Frequentist\")\n",
    "\n",
    "# Display the plot\n",
    "plt.show()"
   ]
  },
  {
   "cell_type": "code",
   "execution_count": null,
   "metadata": {},
   "outputs": [],
   "source": [
    "# Plot each line\n",
    "plt.plot(ransom.letter, ransom.frequency,\n",
    "         label='Ransom', linestyle=':', color='gray')\n",
    "plt.plot(suspect1.letter, suspect1.frequency, label='Fred Frequentist')\n",
    "plt.plot(suspect2.letter, suspect2.frequency, label='Gertrude Cox')\n",
    "\n",
    "# Add x- and y-labels\n",
    "plt.xlabel(\"Letter\")\n",
    "plt.ylabel(\"Frequency\")\n",
    "\n",
    "# Add a legend\n",
    "plt.legend()\n",
    "\n",
    "# Display plot\n",
    "plt.show()"
   ]
  },
  {
   "cell_type": "code",
   "execution_count": null,
   "metadata": {},
   "outputs": [],
   "source": [
    "# Plot the number of hours spent on desk work\n",
    "plt.bar(hours.officer, hours.desk_work, label='Desk Work')\n",
    "\n",
    "# Plot the hours spent on field work on top of desk work\n",
    "plt.bar(hours.officer, hours.field_work,bottom= hours.desk_work,label='Field Work')\n",
    "\n",
    "# Add a legend\n",
    "plt.legend()\n",
    "\n",
    "# Display the plot\n",
    "plt.show()"
   ]
  },
  {
   "cell_type": "code",
   "execution_count": null,
   "metadata": {},
   "outputs": [],
   "source": [
    "# Create a histogram\n",
    "plt.hist(gravel.radius,\n",
    "         bins=40,\n",
    "         range=(2, 8),\n",
    "         density=True)\n",
    "\n",
    "# Label plot\n",
    "plt.xlabel('Gravel Radius (mm)')\n",
    "plt.ylabel('Frequency')\n",
    "plt.title('Sample from Shoeprint')\n",
    "\n",
    "# Display histogram\n",
    "plt.show()"
   ]
  }
 ],
 "metadata": {
  "language_info": {
   "name": "python"
  },
  "orig_nbformat": 4
 },
 "nbformat": 4,
 "nbformat_minor": 2
}
